{
 "cells": [
  {
   "cell_type": "code",
   "execution_count": 1,
   "id": "b510165a",
   "metadata": {},
   "outputs": [],
   "source": [
    "#Give a tree structure - not necessarily binary(!) - with three types of nodes:\n",
    "\n",
    "    # The ROOT: only node of the tree with no parent\n",
    "    # VENTURES: all children of the root\n",
    "    # ACCOUNTS: all nodes which are not the root neither venture nodes (MIDDLE NODES ONLY!)\n",
    "    \n",
    "    #...which is represented as a LIST of LINK objects:"
   ]
  },
  {
   "cell_type": "code",
   "execution_count": null,
   "id": "82724950",
   "metadata": {},
   "outputs": [],
   "source": [
    "###THIS CODE WORKS!!!!"
   ]
  },
  {
   "cell_type": "code",
   "execution_count": 14,
   "id": "e31e254e",
   "metadata": {},
   "outputs": [
    {
     "name": "stdout",
     "output_type": "stream",
     "text": [
      "Please input an account/retailer.....retailer3\n",
      "Venture:  Hill's US\n"
     ]
    }
   ],
   "source": [
    "list_of_links = ['retailer1','retailer2']\n",
    "list_of_links2 = ['retailer3','retailer4','retailer5','retailer6']\n",
    "\n",
    "class Link(object):\n",
    "\n",
    "    def __init__(self, parent_name, child_name):\n",
    "     self.parent_name = parent_name\n",
    "     self.child_name = child_name\n",
    " \n",
    "\n",
    "    def find_venture():\n",
    "        child_name = input(\"Please input an account/retailer.....\")\n",
    "        if (child_name in list_of_links):\n",
    "            print(\"Venture:  Colgate US\")\n",
    "        elif child_name in list_of_links2:\n",
    "            print(\"Venture:  Hill's US\")\n",
    "        else: \n",
    "            print(\"Not a Venture of any Account\")\n",
    "    \n",
    "    find_venture()"
   ]
  },
  {
   "cell_type": "code",
   "execution_count": null,
   "id": "9f1a5371",
   "metadata": {},
   "outputs": [],
   "source": [
    "class Link(object):\n",
    "\n",
    "    def __init__(self, parent_name, child_name):\n",
    "     self.parent_name = parent_name\n",
    "     self.child_name = child_name\n",
    " \n",
    "    def exists(self, parent_name, child_name):\n",
    "        if child_name == self.parent_name:\n",
    "            return True\n",
    "        \n",
    "        if val < self.val:\n",
    "            if self.left == None:\n",
    "                return False\n",
    "            return self.left.exists(val)\n",
    "        \n",
    "        if self.right == None\n",
    "            return True\n",
    "        return self.right.exists(val)"
   ]
  },
  {
   "cell_type": "code",
   "execution_count": null,
   "id": "326175e7",
   "metadata": {},
   "outputs": [],
   "source": [
    "###BELOW CODE IS MORE SUITABLE FOR A DIFFERENT APPROACH....ABOVE IS FOR MORE DISCRETE BASIS"
   ]
  },
  {
   "cell_type": "code",
   "execution_count": null,
   "id": "3b27a22b",
   "metadata": {},
   "outputs": [],
   "source": [
    "    root.left.left='retailer1'\n",
    "    root.left.right='retailer2'\n",
    "    root.right.right.left.left='retailer3'\n",
    "    root.right.right.right='retailer5'\n",
    "    root.right.right.left='retailer4'\n",
    "    root.right.right='retailer3'\n",
    "    \n",
    "#root.left.left \n",
    "retailer1 = Link(\"Root\",\"Colgate US\",\"retailer1\")\n",
    "\n",
    "#root.left.right \n",
    "retailer2 = Link(\"Root\",\"Colgate US\",\"retailer2\")\n",
    "\n",
    "#root.right.right.left.left \n",
    "retailer6 = Link(\"Root\",\"Hill's US\",\"retailer3\")\n",
    "\n",
    "#root.right.right.right \n",
    "retailer5 = Link(\"Root\", \"Hill's US\",\"retailer5\")\n",
    "\n",
    "#root.right.right.left \n",
    "retailer4 = Link(\"Root\", \"Hill's US\",\"retailer4\")\n",
    "\n",
    "#root.right.right \n",
    "retailer3 = Link(\"Root\", \"Hill's US\",\"retailer3\")"
   ]
  },
  {
   "cell_type": "code",
   "execution_count": null,
   "id": "bd8a58fd",
   "metadata": {},
   "outputs": [],
   "source": []
  },
  {
   "cell_type": "code",
   "execution_count": null,
   "id": "88533f8a",
   "metadata": {},
   "outputs": [],
   "source": [
    "class Link(object):\n",
    "\n",
    " def __init__(self, parent_name, child_name):\n",
    "    self.parent_name = parent_name\n",
    "    self.child_name=child_name\n",
    "    \n",
    "    class BinaryTree(object):\n",
    "        def __init__(self, root):\n",
    "            self.root = Link(root)\n",
    "            \n",
    "#                     Root\n",
    "#                   /      \\\n",
    "#                  /        \\\n",
    "#                 /          \\\n",
    "#                /            \\\n",
    "#               /              \\\n",
    "#        Colgate US        Hill's US\n",
    "#       /         \\             \\\n",
    "# retailer1   retailer2      retailer3 \n",
    "#                           /         \\\n",
    "#                     retailer4   retailer5\n",
    "#                        /\n",
    "#                  retailer6\n",
    "        "
   ]
  },
  {
   "cell_type": "code",
   "execution_count": null,
   "id": "a0bb4688",
   "metadata": {},
   "outputs": [],
   "source": []
  },
  {
   "cell_type": "code",
   "execution_count": null,
   "id": "c2b9d86e",
   "metadata": {},
   "outputs": [],
   "source": [
    "root.left.left = Link(\"Root\",\"Colgate US\")\n",
    "root.left.right = Link(\"Root\",\"Colgate US\")\n",
    "root.right.right.left.left = Link(\"Root\",\"Hill's US\")\n",
    "root.right.right.right = Link(\"Root\", \"Hill's US\")\n",
    "root.right.right.left = Link(\"Root\", \"Hill's US\")\n",
    "root.right.right = Link(\"Root\", \"Hill's US\")\n"
   ]
  },
  {
   "cell_type": "code",
   "execution_count": null,
   "id": "f2dd4a66",
   "metadata": {},
   "outputs": [],
   "source": []
  },
  {
   "cell_type": "code",
   "execution_count": 13,
   "id": "a03d7e60",
   "metadata": {},
   "outputs": [
    {
     "ename": "SyntaxError",
     "evalue": "invalid syntax (<ipython-input-13-121012444aeb>, line 56)",
     "output_type": "error",
     "traceback": [
      "\u001b[1;36m  File \u001b[1;32m\"<ipython-input-13-121012444aeb>\"\u001b[1;36m, line \u001b[1;32m56\u001b[0m\n\u001b[1;33m    root.left = Node('Colgate US')\u001b[0m\n\u001b[1;37m       ^\u001b[0m\n\u001b[1;31mSyntaxError\u001b[0m\u001b[1;31m:\u001b[0m invalid syntax\n"
     ]
    }
   ],
   "source": [
    "class Node:\n",
    "    def __init__(self, key):\n",
    "        self.left = None\n",
    "        self.right = None\n",
    "        self.val = key\n",
    " \n",
    " \n",
    "# A function to do inorder tree traversal\n",
    "def printInorder(root):\n",
    " \n",
    "    if root:\n",
    " \n",
    "        # First recur on left child\n",
    "        printInorder(root.left)\n",
    " \n",
    "        # then print the data of node\n",
    "        print(root.val),\n",
    " \n",
    "        # now recur on right child\n",
    "        printInorder(root.right)\n",
    "        \n",
    "    elif root.left:\n",
    "        \n",
    "        printInorder(root.left.left)\n",
    "        \n",
    "        print(root.left.val),\n",
    "        \n",
    "        printInorder(root.left.right)\n",
    " \n",
    "    elif root.right:\n",
    "        \n",
    "        printInorder(root.right.left)\n",
    "        \n",
    "        print(root.right.val),\n",
    "        \n",
    "        printInorder(root.right.right)\n",
    "        \n",
    "    elif root.right.right:\n",
    "        \n",
    "        printInorder(root.right.right.left)\n",
    "        \n",
    "        print(root.right.right.val),\n",
    "        \n",
    "        printInorder(root.right.right.right)\n",
    "        \n",
    "    elif root.right.right.left:\n",
    "        \n",
    "        printInorder(root.right.right.left.left)\n",
    "        \n",
    "        print(root.right.right.left.val),\n",
    "        \n",
    "        printInorder(root.right.right.left.right)\n",
    "# Driver code\n",
    "if __name__ == \"__main__\":\n",
    "    root = Node(Root\n",
    "    root.left = Node('Colgate US')\n",
    "    root.left.left = Node(\"retailer1)\n",
    "    root.left.right=Node(\"retailer2\")\n",
    "    root.right = Node(\"Hill's US\")\n",
    "    root.right.right = Node('retailer3')\n",
    "    root.right.left=Node(\"retailer4\")\n",
    "    root.right.right.left.left = Node('retailer6')\n",
    "    root.right.right.right = Node(\"retailer5\")\n",
    " \n",
    "    # Function call\n",
    "    print (\"\\nInorder traversal of binary tree is\")\n",
    "    printInorder(root)"
   ]
  },
  {
   "cell_type": "code",
   "execution_count": 12,
   "id": "a11fbfa5",
   "metadata": {},
   "outputs": [
    {
     "ename": "AttributeError",
     "evalue": "'NoneType' object has no attribute 'left'",
     "output_type": "error",
     "traceback": [
      "\u001b[1;31m---------------------------------------------------------------------------\u001b[0m",
      "\u001b[1;31mAttributeError\u001b[0m                            Traceback (most recent call last)",
      "\u001b[1;32m<ipython-input-12-2f070cc43f99>\u001b[0m in \u001b[0;36m<module>\u001b[1;34m\u001b[0m\n\u001b[0;32m     28\u001b[0m     \u001b[0mroot\u001b[0m\u001b[1;33m.\u001b[0m\u001b[0mleft\u001b[0m\u001b[1;33m.\u001b[0m\u001b[0mleft\u001b[0m \u001b[1;33m=\u001b[0m \u001b[0mNode\u001b[0m\u001b[1;33m(\u001b[0m\u001b[1;34m\"retailer1\"\u001b[0m\u001b[1;33m)\u001b[0m\u001b[1;33m\u001b[0m\u001b[1;33m\u001b[0m\u001b[0m\n\u001b[0;32m     29\u001b[0m     \u001b[0mroot\u001b[0m\u001b[1;33m.\u001b[0m\u001b[0mleft\u001b[0m\u001b[1;33m.\u001b[0m\u001b[0mright\u001b[0m \u001b[1;33m=\u001b[0m \u001b[0mNode\u001b[0m\u001b[1;33m(\u001b[0m\u001b[1;34m\"retailer2\"\u001b[0m\u001b[1;33m)\u001b[0m\u001b[1;33m\u001b[0m\u001b[1;33m\u001b[0m\u001b[0m\n\u001b[1;32m---> 30\u001b[1;33m     \u001b[0mroot\u001b[0m\u001b[1;33m.\u001b[0m\u001b[0mright\u001b[0m\u001b[1;33m.\u001b[0m\u001b[0mright\u001b[0m\u001b[1;33m.\u001b[0m\u001b[0mleft\u001b[0m\u001b[1;33m.\u001b[0m\u001b[0mleft\u001b[0m \u001b[1;33m=\u001b[0m \u001b[0mNode\u001b[0m\u001b[1;33m(\u001b[0m\u001b[1;34m\"retailer6\"\u001b[0m\u001b[1;33m)\u001b[0m\u001b[1;33m\u001b[0m\u001b[1;33m\u001b[0m\u001b[0m\n\u001b[0m\u001b[0;32m     31\u001b[0m     \u001b[0mroot\u001b[0m\u001b[1;33m.\u001b[0m\u001b[0mright\u001b[0m\u001b[1;33m.\u001b[0m\u001b[0mright\u001b[0m\u001b[1;33m.\u001b[0m\u001b[0mleft\u001b[0m\u001b[1;33m=\u001b[0m\u001b[0mNode\u001b[0m\u001b[1;33m(\u001b[0m\u001b[1;34m\"retailer4\"\u001b[0m\u001b[1;33m)\u001b[0m\u001b[1;33m\u001b[0m\u001b[1;33m\u001b[0m\u001b[0m\n\u001b[0;32m     32\u001b[0m     \u001b[0mroot\u001b[0m\u001b[1;33m.\u001b[0m\u001b[0mright\u001b[0m\u001b[1;33m.\u001b[0m\u001b[0mright\u001b[0m\u001b[1;33m.\u001b[0m\u001b[0mright\u001b[0m\u001b[1;33m=\u001b[0m\u001b[0mNode\u001b[0m\u001b[1;33m(\u001b[0m\u001b[1;34m\"retailer5\"\u001b[0m\u001b[1;33m)\u001b[0m\u001b[1;33m\u001b[0m\u001b[1;33m\u001b[0m\u001b[0m\n",
      "\u001b[1;31mAttributeError\u001b[0m: 'NoneType' object has no attribute 'left'"
     ]
    }
   ],
   "source": [
    "class Node:\n",
    "    def __init__(self, key):\n",
    "        self.left = None\n",
    "        self.right = None\n",
    "        self.val = key\n",
    " \n",
    " \n",
    "# A function to do inorder tree traversal\n",
    "def printInorder(root):\n",
    " \n",
    "    if root:\n",
    " \n",
    "        # First recur on left child\n",
    "        printInorder(root.left)\n",
    " \n",
    "        # then print the data of node\n",
    "        print(root.val),\n",
    " \n",
    "        # now recur on right child\n",
    "        printInorder(root.right)\n",
    " \n",
    " \n",
    "# Driver code\n",
    "if __name__ == \"__main__\":\n",
    "    root = Node(\"Root\")\n",
    "    root.left = Node(\"Colgate US\")\n",
    "    root.right = Node(\"Hill's US\")\n",
    "    root.left.left = Node(\"retailer1\")\n",
    "    root.left.right = Node(\"retailer2\")\n",
    "    root.right.right.left.left = Node(\"retailer6\")\n",
    "    root.right.right.left=Node(\"retailer4\")\n",
    "    root.right.right.right=Node(\"retailer5\")\n",
    " \n",
    "    # Function call\n",
    "    print (\"\\nInorder traversal of binary tree is\")\n",
    "    printInorder(root)"
   ]
  },
  {
   "cell_type": "code",
   "execution_count": null,
   "id": "fe56533b",
   "metadata": {},
   "outputs": [],
   "source": []
  }
 ],
 "metadata": {
  "kernelspec": {
   "display_name": "Python 3",
   "language": "python",
   "name": "python3"
  },
  "language_info": {
   "codemirror_mode": {
    "name": "ipython",
    "version": 3
   },
   "file_extension": ".py",
   "mimetype": "text/x-python",
   "name": "python",
   "nbconvert_exporter": "python",
   "pygments_lexer": "ipython3",
   "version": "3.7.6"
  }
 },
 "nbformat": 4,
 "nbformat_minor": 5
}
